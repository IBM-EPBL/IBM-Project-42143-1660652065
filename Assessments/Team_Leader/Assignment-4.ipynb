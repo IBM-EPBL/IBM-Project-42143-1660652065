{
 "cells": [
  {
   "cell_type": "markdown",
   "id": "b67b2aec",
   "metadata": {},
   "source": [
    "# Assignment - 4\n",
    "# Problem Statement: Customer Segmentation Analysis\n",
    "## Problem Statement\n",
    "## You own the mall and want to understand the customers who can quickly converge [Target Customers] so that the insight can be given to the marketing team and plan the strategy accordingly. Perform the below Tasks to complete the assignment:-\n",
    "## Clustering the data and performing classification algorithms"
   ]
  },
  {
   "cell_type": "markdown",
   "id": "db3ce7f5",
   "metadata": {},
   "source": [
    "## 2.Load the dataset into the tool."
   ]
  },
  {
   "cell_type": "code",
   "execution_count": 1,
   "id": "118fd547",
   "metadata": {},
   "outputs": [
    {
     "data": {
      "text/html": [
       "<div>\n",
       "<style scoped>\n",
       "    .dataframe tbody tr th:only-of-type {\n",
       "        vertical-align: middle;\n",
       "    }\n",
       "\n",
       "    .dataframe tbody tr th {\n",
       "        vertical-align: top;\n",
       "    }\n",
       "\n",
       "    .dataframe thead th {\n",
       "        text-align: right;\n",
       "    }\n",
       "</style>\n",
       "<table border=\"1\" class=\"dataframe\">\n",
       "  <thead>\n",
       "    <tr style=\"text-align: right;\">\n",
       "      <th></th>\n",
       "      <th>CustomerID</th>\n",
       "      <th>Gender</th>\n",
       "      <th>Age</th>\n",
       "      <th>Annual Income (k$)</th>\n",
       "      <th>Spending Score (1-100)</th>\n",
       "    </tr>\n",
       "  </thead>\n",
       "  <tbody>\n",
       "    <tr>\n",
       "      <th>0</th>\n",
       "      <td>1</td>\n",
       "      <td>Male</td>\n",
       "      <td>19</td>\n",
       "      <td>15</td>\n",
       "      <td>39</td>\n",
       "    </tr>\n",
       "    <tr>\n",
       "      <th>1</th>\n",
       "      <td>2</td>\n",
       "      <td>Male</td>\n",
       "      <td>21</td>\n",
       "      <td>15</td>\n",
       "      <td>81</td>\n",
       "    </tr>\n",
       "    <tr>\n",
       "      <th>2</th>\n",
       "      <td>3</td>\n",
       "      <td>Female</td>\n",
       "      <td>20</td>\n",
       "      <td>16</td>\n",
       "      <td>6</td>\n",
       "    </tr>\n",
       "    <tr>\n",
       "      <th>3</th>\n",
       "      <td>4</td>\n",
       "      <td>Female</td>\n",
       "      <td>23</td>\n",
       "      <td>16</td>\n",
       "      <td>77</td>\n",
       "    </tr>\n",
       "    <tr>\n",
       "      <th>4</th>\n",
       "      <td>5</td>\n",
       "      <td>Female</td>\n",
       "      <td>31</td>\n",
       "      <td>17</td>\n",
       "      <td>40</td>\n",
       "    </tr>\n",
       "    <tr>\n",
       "      <th>...</th>\n",
       "      <td>...</td>\n",
       "      <td>...</td>\n",
       "      <td>...</td>\n",
       "      <td>...</td>\n",
       "      <td>...</td>\n",
       "    </tr>\n",
       "    <tr>\n",
       "      <th>195</th>\n",
       "      <td>196</td>\n",
       "      <td>Female</td>\n",
       "      <td>35</td>\n",
       "      <td>120</td>\n",
       "      <td>79</td>\n",
       "    </tr>\n",
       "    <tr>\n",
       "      <th>196</th>\n",
       "      <td>197</td>\n",
       "      <td>Female</td>\n",
       "      <td>45</td>\n",
       "      <td>126</td>\n",
       "      <td>28</td>\n",
       "    </tr>\n",
       "    <tr>\n",
       "      <th>197</th>\n",
       "      <td>198</td>\n",
       "      <td>Male</td>\n",
       "      <td>32</td>\n",
       "      <td>126</td>\n",
       "      <td>74</td>\n",
       "    </tr>\n",
       "    <tr>\n",
       "      <th>198</th>\n",
       "      <td>199</td>\n",
       "      <td>Male</td>\n",
       "      <td>32</td>\n",
       "      <td>137</td>\n",
       "      <td>18</td>\n",
       "    </tr>\n",
       "    <tr>\n",
       "      <th>199</th>\n",
       "      <td>200</td>\n",
       "      <td>Male</td>\n",
       "      <td>30</td>\n",
       "      <td>137</td>\n",
       "      <td>83</td>\n",
       "    </tr>\n",
       "  </tbody>\n",
       "</table>\n",
       "<p>200 rows × 5 columns</p>\n",
       "</div>"
      ],
      "text/plain": [
       "     CustomerID  Gender  Age  Annual Income (k$)  Spending Score (1-100)\n",
       "0             1    Male   19                  15                      39\n",
       "1             2    Male   21                  15                      81\n",
       "2             3  Female   20                  16                       6\n",
       "3             4  Female   23                  16                      77\n",
       "4             5  Female   31                  17                      40\n",
       "..          ...     ...  ...                 ...                     ...\n",
       "195         196  Female   35                 120                      79\n",
       "196         197  Female   45                 126                      28\n",
       "197         198    Male   32                 126                      74\n",
       "198         199    Male   32                 137                      18\n",
       "199         200    Male   30                 137                      83\n",
       "\n",
       "[200 rows x 5 columns]"
      ]
     },
     "execution_count": 1,
     "metadata": {},
     "output_type": "execute_result"
    }
   ],
   "source": [
    "import numpy as np\n",
    "import pandas as pd\n",
    "import seaborn as sns\n",
    "\n",
    "ds = pd.read_csv('Mall_Customers.csv')\n",
    "ds\n"
   ]
  },
  {
   "cell_type": "code",
   "execution_count": 2,
   "id": "fae09eaa",
   "metadata": {},
   "outputs": [],
   "source": [
    "ds.drop('CustomerID',axis=1,inplace=True)"
   ]
  },
  {
   "cell_type": "markdown",
   "id": "6493e5be",
   "metadata": {},
   "source": [
    "## 3. Perform Below Visualizations.\n",
    "## i. Univariate Analysis\n"
   ]
  },
  {
   "cell_type": "code",
   "execution_count": 3,
   "id": "b86a4098",
   "metadata": {},
   "outputs": [
    {
     "name": "stdout",
     "output_type": "stream",
     "text": [
      "Frequency table for Age is given below\n",
      "32    11\n",
      "35     9\n",
      "19     8\n",
      "31     8\n",
      "30     7\n",
      "49     7\n",
      "40     6\n",
      "38     6\n",
      "47     6\n",
      "27     6\n",
      "36     6\n",
      "23     6\n",
      "34     5\n",
      "20     5\n",
      "29     5\n",
      "50     5\n",
      "48     5\n",
      "21     5\n",
      "24     4\n",
      "18     4\n",
      "28     4\n",
      "67     4\n",
      "59     4\n",
      "54     4\n",
      "43     3\n",
      "60     3\n",
      "45     3\n",
      "39     3\n",
      "33     3\n",
      "37     3\n",
      "22     3\n",
      "25     3\n",
      "46     3\n",
      "68     3\n",
      "52     2\n",
      "44     2\n",
      "66     2\n",
      "57     2\n",
      "26     2\n",
      "53     2\n",
      "42     2\n",
      "63     2\n",
      "70     2\n",
      "51     2\n",
      "58     2\n",
      "65     2\n",
      "41     2\n",
      "55     1\n",
      "69     1\n",
      "64     1\n",
      "56     1\n",
      "Name: Age, dtype: int64\n",
      "\n",
      "\n",
      "\n",
      "Mean, Median:\n",
      "\n",
      "1-mean of age =  38.85\n",
      "2-mean of height =  60.56\n",
      "3-median value of length =  50.0\n",
      "\n",
      "Chart\n",
      "\n",
      "6-boxplot of Diameter\n"
     ]
    },
    {
     "data": {
      "image/png": "[encoded data removed]",
      "text/plain": [
       "<Figure size 432x288 with 2 Axes>"
      ]
     },
     "metadata": {
      "needs_background": "light"
     },
     "output_type": "display_data"
    }
   ],
   "source": [
    "# univarient analysis\n",
    "\n",
    "#frequency table for age\n",
    "\n",
    "ft = ds['Age'].value_counts()\n",
    "\n",
    "print(\"Frequency table for Age is given below\")\n",
    "print(\"{}\\n\\n\\n\".format(ft))\n",
    "\n",
    "# mean\n",
    "\n",
    "print(\"Mean, Median:\\n\")\n",
    "ma=ds['Age'].mean() #mean of age\n",
    "mh = ds['Annual Income (k$)'].mean() #mean of height\n",
    "mel = ds['Spending Score (1-100)'].median() #median value of length\n",
    "\n",
    "\n",
    "\n",
    "#chart\n",
    "\n",
    "import matplotlib.pyplot as plt # library for plot or graph\n",
    "import seaborn as sns\n",
    "\n",
    "plt.subplot(1,2,1)\n",
    "ch = ds.boxplot(column='Annual Income (k$)',grid=True,color ='red')\n",
    "plt.title('Box plot')\n",
    "\n",
    "plt.subplot(1,2,2)\n",
    "DC = sns.kdeplot(ds['Spending Score (1-100)'])\n",
    "plt.title('Density Curve')\n",
    "\n",
    "\n",
    "\n",
    "print(\"1-mean of age = \",ma) \n",
    "print(\"2-mean of height = \",mh) \n",
    "print(\"3-median value of length = \",mel)#\n",
    "\n",
    "\n",
    "print(\"\\nChart\\n\\n6-boxplot of Diameter\",flush=True)\n",
    "\n"
   ]
  },
  {
   "cell_type": "markdown",
   "id": "e95a5b21",
   "metadata": {},
   "source": [
    "## ii. Bi- Variate Analysis\n"
   ]
  },
  {
   "cell_type": "code",
   "execution_count": 4,
   "id": "88a9f531",
   "metadata": {
    "scrolled": true
   },
   "outputs": [
    {
     "data": {
      "text/plain": [
       "Text(0, 0.5, 'Spending_Score(1-100)')"
      ]
     },
     "execution_count": 4,
     "metadata": {},
     "output_type": "execute_result"
    },
    {
     "data": {
      "image/png": "[encoded data removed]",
      "text/plain": [
       "<Figure size 432x288 with 1 Axes>"
      ]
     },
     "metadata": {
      "needs_background": "light"
     },
     "output_type": "display_data"
    }
   ],
   "source": [
    "import matplotlib.pyplot as plt # library for charts\n",
    "\n",
    "ds.set_axis(['Gender', 'Age', 'Annual_Income_(k$)','Spending_Score(1-100)'], axis='columns', inplace=True)\n",
    "s = ds['Annual_Income_(k$)']\n",
    "v = ds['Spending_Score(1-100)']\n",
    "\n",
    "plt.scatter(s,v)\n",
    "plt.title('Scatterplots-- Money spending chart')\n",
    "plt.xlabel(\"Annual_Income_(k$)\")\n",
    "plt.ylabel(\"Spending_Score(1-100)\")\n",
    "\n",
    "\n",
    "\n"
   ]
  },
  {
   "cell_type": "code",
   "execution_count": 5,
   "id": "4dacff70",
   "metadata": {},
   "outputs": [
    {
     "data": {
      "text/html": [
       "<div>\n",
       "<style scoped>\n",
       "    .dataframe tbody tr th:only-of-type {\n",
       "        vertical-align: middle;\n",
       "    }\n",
       "\n",
       "    .dataframe tbody tr th {\n",
       "        vertical-align: top;\n",
       "    }\n",
       "\n",
       "    .dataframe thead th {\n",
       "        text-align: right;\n",
       "    }\n",
       "</style>\n",
       "<table border=\"1\" class=\"dataframe\">\n",
       "  <thead>\n",
       "    <tr style=\"text-align: right;\">\n",
       "      <th></th>\n",
       "      <th>Age</th>\n",
       "      <th>Annual_Income_(k$)</th>\n",
       "      <th>Spending_Score(1-100)</th>\n",
       "    </tr>\n",
       "  </thead>\n",
       "  <tbody>\n",
       "    <tr>\n",
       "      <th>Age</th>\n",
       "      <td>1.000000</td>\n",
       "      <td>-0.012398</td>\n",
       "      <td>-0.327227</td>\n",
       "    </tr>\n",
       "    <tr>\n",
       "      <th>Annual_Income_(k$)</th>\n",
       "      <td>-0.012398</td>\n",
       "      <td>1.000000</td>\n",
       "      <td>0.009903</td>\n",
       "    </tr>\n",
       "    <tr>\n",
       "      <th>Spending_Score(1-100)</th>\n",
       "      <td>-0.327227</td>\n",
       "      <td>0.009903</td>\n",
       "      <td>1.000000</td>\n",
       "    </tr>\n",
       "  </tbody>\n",
       "</table>\n",
       "</div>"
      ],
      "text/plain": [
       "                            Age  Annual_Income_(k$)  Spending_Score(1-100)\n",
       "Age                    1.000000           -0.012398              -0.327227\n",
       "Annual_Income_(k$)    -0.012398            1.000000               0.009903\n",
       "Spending_Score(1-100) -0.327227            0.009903               1.000000"
      ]
     },
     "execution_count": 5,
     "metadata": {},
     "output_type": "execute_result"
    }
   ],
   "source": [
    "ds.corr()"
   ]
  },
  {
   "cell_type": "code",
   "execution_count": 6,
   "id": "f960d006",
   "metadata": {},
   "outputs": [
    {
     "name": "stdout",
     "output_type": "stream",
     "text": [
      "                            OLS Regression Results                            \n",
      "==============================================================================\n",
      "Dep. Variable:     Annual_Income_(k$)   R-squared:                       0.000\n",
      "Model:                            OLS   Adj. R-squared:                 -0.005\n",
      "Method:                 Least Squares   F-statistic:                   0.01942\n",
      "Date:                Thu, 03 Nov 2022   Prob (F-statistic):              0.889\n",
      "Time:                        14:22:23   Log-Likelihood:                -936.92\n",
      "No. Observations:                 200   AIC:                             1878.\n",
      "Df Residuals:                     198   BIC:                             1884.\n",
      "Df Model:                           1                                         \n",
      "Covariance Type:            nonrobust                                         \n",
      "=========================================================================================\n",
      "                            coef    std err          t      P>|t|      [0.025      0.975]\n",
      "-----------------------------------------------------------------------------------------\n",
      "const                    60.0544      4.078     14.726      0.000      52.012      68.097\n",
      "Spending_Score(1-100)     0.0101      0.072      0.139      0.889      -0.132       0.153\n",
      "==============================================================================\n",
      "Omnibus:                        3.510   Durbin-Watson:                   0.005\n",
      "Prob(Omnibus):                  0.173   Jarque-Bera (JB):                3.531\n",
      "Skew:                           0.319   Prob(JB):                        0.171\n",
      "Kurtosis:                       2.875   Cond. No.                         124.\n",
      "==============================================================================\n",
      "\n",
      "Notes:\n",
      "[1] Standard Errors assume that the covariance matrix of the errors is correctly specified.\n"
     ]
    }
   ],
   "source": [
    "import statsmodels.api as sm\n",
    "# response variable\n",
    "q = ds['Annual_Income_(k$)']\n",
    "\n",
    "# explanatory variable\n",
    "w = ds[['Spending_Score(1-100)']]\n",
    "\n",
    "#add constant to predictor variables\n",
    "w = sm.add_constant(w)\n",
    "\n",
    "#fit linear regression model\n",
    "model = sm.OLS(q, w).fit()\n",
    "\n",
    "#view model summary\n",
    "print(model.summary())"
   ]
  },
  {
   "cell_type": "markdown",
   "id": "2b421850",
   "metadata": {},
   "source": [
    "## iii. Multi-Variate Analysis"
   ]
  },
  {
   "cell_type": "code",
   "execution_count": 7,
   "id": "f1f947ac",
   "metadata": {
    "scrolled": true
   },
   "outputs": [
    {
     "name": "stderr",
     "output_type": "stream",
     "text": [
      "/home/lokesh/anaconda3/lib/python3.9/site-packages/seaborn/categorical.py:1296: UserWarning: 25.0% of the points cannot be placed; you may want to decrease the size of the markers or use stripplot.\n",
      "  warnings.warn(msg, UserWarning)\n",
      "/home/lokesh/anaconda3/lib/python3.9/site-packages/seaborn/categorical.py:1296: UserWarning: 50.0% of the points cannot be placed; you may want to decrease the size of the markers or use stripplot.\n",
      "  warnings.warn(msg, UserWarning)\n",
      "/home/lokesh/anaconda3/lib/python3.9/site-packages/seaborn/categorical.py:1296: UserWarning: 33.3% of the points cannot be placed; you may want to decrease the size of the markers or use stripplot.\n",
      "  warnings.warn(msg, UserWarning)\n",
      "/home/lokesh/anaconda3/lib/python3.9/site-packages/seaborn/categorical.py:1296: UserWarning: 16.7% of the points cannot be placed; you may want to decrease the size of the markers or use stripplot.\n",
      "  warnings.warn(msg, UserWarning)\n"
     ]
    },
    {
     "name": "stdout",
     "output_type": "stream",
     "text": [
      "<seaborn.axisgrid.FacetGrid object at 0x7fe85ae02af0>\n"
     ]
    },
    {
     "data": {
      "image/png": "[encoded data removed]",
      "text/plain": [
       "<Figure size 432.125x360 with 1 Axes>"
      ]
     },
     "metadata": {
      "needs_background": "light"
     },
     "output_type": "display_data"
    }
   ],
   "source": [
    "import matplotlib.pyplot as plt\n",
    "\n",
    "plt=sns.catplot(x=\"Annual_Income_(k$)\",y=\"Spending_Score(1-100)\",hue=\"Gender\",kind=\"swarm\",data=ds)\n",
    "print(plt)"
   ]
  },
  {
   "cell_type": "code",
   "execution_count": 8,
   "id": "df57b339",
   "metadata": {},
   "outputs": [
    {
     "data": {
      "text/plain": [
       "<seaborn.axisgrid.PairGrid at 0x7fe85adee7c0>"
      ]
     },
     "execution_count": 8,
     "metadata": {},
     "output_type": "execute_result"
    },
    {
     "data": {
      "image/png": "[encoded data removed]",
      "text/plain": [
       "<Figure size 540x540 with 12 Axes>"
      ]
     },
     "metadata": {
      "needs_background": "light"
     },
     "output_type": "display_data"
    }
   ],
   "source": [
    "sns.pairplot(ds)"
   ]
  },
  {
   "cell_type": "markdown",
   "id": "8037c649",
   "metadata": {},
   "source": [
    "## 4. Perform descriptive statistics on the dataset.\n"
   ]
  },
  {
   "cell_type": "code",
   "execution_count": 14,
   "id": "9407a3b6",
   "metadata": {},
   "outputs": [
    {
     "data": {
      "text/html": [
       "<div>\n",
       "<style scoped>\n",
       "    .dataframe tbody tr th:only-of-type {\n",
       "        vertical-align: middle;\n",
       "    }\n",
       "\n",
       "    .dataframe tbody tr th {\n",
       "        vertical-align: top;\n",
       "    }\n",
       "\n",
       "    .dataframe thead th {\n",
       "        text-align: right;\n",
       "    }\n",
       "</style>\n",
       "<table border=\"1\" class=\"dataframe\">\n",
       "  <thead>\n",
       "    <tr style=\"text-align: right;\">\n",
       "      <th></th>\n",
       "      <th>Age</th>\n",
       "      <th>Annual_Income_(k$)</th>\n",
       "      <th>Spending_Score(1-100)</th>\n",
       "    </tr>\n",
       "  </thead>\n",
       "  <tbody>\n",
       "    <tr>\n",
       "      <th>count</th>\n",
       "      <td>200.000000</td>\n",
       "      <td>200.000000</td>\n",
       "      <td>200.000000</td>\n",
       "    </tr>\n",
       "    <tr>\n",
       "      <th>mean</th>\n",
       "      <td>38.850000</td>\n",
       "      <td>60.560000</td>\n",
       "      <td>50.200000</td>\n",
       "    </tr>\n",
       "    <tr>\n",
       "      <th>std</th>\n",
       "      <td>13.969007</td>\n",
       "      <td>26.264721</td>\n",
       "      <td>25.823522</td>\n",
       "    </tr>\n",
       "    <tr>\n",
       "      <th>min</th>\n",
       "      <td>18.000000</td>\n",
       "      <td>15.000000</td>\n",
       "      <td>1.000000</td>\n",
       "    </tr>\n",
       "    <tr>\n",
       "      <th>25%</th>\n",
       "      <td>28.750000</td>\n",
       "      <td>41.500000</td>\n",
       "      <td>34.750000</td>\n",
       "    </tr>\n",
       "    <tr>\n",
       "      <th>50%</th>\n",
       "      <td>36.000000</td>\n",
       "      <td>61.500000</td>\n",
       "      <td>50.000000</td>\n",
       "    </tr>\n",
       "    <tr>\n",
       "      <th>75%</th>\n",
       "      <td>49.000000</td>\n",
       "      <td>78.000000</td>\n",
       "      <td>73.000000</td>\n",
       "    </tr>\n",
       "    <tr>\n",
       "      <th>max</th>\n",
       "      <td>70.000000</td>\n",
       "      <td>137.000000</td>\n",
       "      <td>99.000000</td>\n",
       "    </tr>\n",
       "  </tbody>\n",
       "</table>\n",
       "</div>"
      ],
      "text/plain": [
       "              Age  Annual_Income_(k$)  Spending_Score(1-100)\n",
       "count  200.000000          200.000000             200.000000\n",
       "mean    38.850000           60.560000              50.200000\n",
       "std     13.969007           26.264721              25.823522\n",
       "min     18.000000           15.000000               1.000000\n",
       "25%     28.750000           41.500000              34.750000\n",
       "50%     36.000000           61.500000              50.000000\n",
       "75%     49.000000           78.000000              73.000000\n",
       "max     70.000000          137.000000              99.000000"
      ]
     },
     "execution_count": 14,
     "metadata": {},
     "output_type": "execute_result"
    }
   ],
   "source": [
    "ds.describe()"
   ]
  },
  {
   "cell_type": "markdown",
   "id": "6b5e3d50",
   "metadata": {},
   "source": [
    "## 5. Check for Missing values and deal with them."
   ]
  },
  {
   "cell_type": "code",
   "execution_count": 15,
   "id": "8e543208",
   "metadata": {},
   "outputs": [
    {
     "name": "stdout",
     "output_type": "stream",
     "text": [
      "<class 'pandas.core.frame.DataFrame'>\n",
      "RangeIndex: 200 entries, 0 to 199\n",
      "Data columns (total 4 columns):\n",
      " #   Column                 Non-Null Count  Dtype \n",
      "---  ------                 --------------  ----- \n",
      " 0   Gender                 200 non-null    object\n",
      " 1   Age                    200 non-null    int64 \n",
      " 2   Annual_Income_(k$)     200 non-null    int64 \n",
      " 3   Spending_Score(1-100)  200 non-null    int64 \n",
      "dtypes: int64(3), object(1)\n",
      "memory usage: 6.4+ KB\n"
     ]
    }
   ],
   "source": [
    "ds.info()"
   ]
  },
  {
   "cell_type": "code",
   "execution_count": 16,
   "id": "f46fd460",
   "metadata": {},
   "outputs": [
    {
     "data": {
      "text/plain": [
       "Gender                   0\n",
       "Age                      0\n",
       "Annual_Income_(k$)       0\n",
       "Spending_Score(1-100)    0\n",
       "dtype: int64"
      ]
     },
     "execution_count": 16,
     "metadata": {},
     "output_type": "execute_result"
    }
   ],
   "source": [
    "ds.isnull().sum()"
   ]
  },
  {
   "cell_type": "code",
   "execution_count": 17,
   "id": "ebb3cbee",
   "metadata": {},
   "outputs": [
    {
     "data": {
      "text/html": [
       "<div>\n",
       "<style scoped>\n",
       "    .dataframe tbody tr th:only-of-type {\n",
       "        vertical-align: middle;\n",
       "    }\n",
       "\n",
       "    .dataframe tbody tr th {\n",
       "        vertical-align: top;\n",
       "    }\n",
       "\n",
       "    .dataframe thead th {\n",
       "        text-align: right;\n",
       "    }\n",
       "</style>\n",
       "<table border=\"1\" class=\"dataframe\">\n",
       "  <thead>\n",
       "    <tr style=\"text-align: right;\">\n",
       "      <th></th>\n",
       "      <th>Gender</th>\n",
       "      <th>Age</th>\n",
       "      <th>Annual_Income_(k$)</th>\n",
       "      <th>Spending_Score(1-100)</th>\n",
       "    </tr>\n",
       "  </thead>\n",
       "  <tbody>\n",
       "    <tr>\n",
       "      <th>0</th>\n",
       "      <td>True</td>\n",
       "      <td>True</td>\n",
       "      <td>True</td>\n",
       "      <td>True</td>\n",
       "    </tr>\n",
       "    <tr>\n",
       "      <th>1</th>\n",
       "      <td>True</td>\n",
       "      <td>True</td>\n",
       "      <td>True</td>\n",
       "      <td>True</td>\n",
       "    </tr>\n",
       "    <tr>\n",
       "      <th>2</th>\n",
       "      <td>True</td>\n",
       "      <td>True</td>\n",
       "      <td>True</td>\n",
       "      <td>True</td>\n",
       "    </tr>\n",
       "    <tr>\n",
       "      <th>3</th>\n",
       "      <td>True</td>\n",
       "      <td>True</td>\n",
       "      <td>True</td>\n",
       "      <td>True</td>\n",
       "    </tr>\n",
       "    <tr>\n",
       "      <th>4</th>\n",
       "      <td>True</td>\n",
       "      <td>True</td>\n",
       "      <td>True</td>\n",
       "      <td>True</td>\n",
       "    </tr>\n",
       "    <tr>\n",
       "      <th>...</th>\n",
       "      <td>...</td>\n",
       "      <td>...</td>\n",
       "      <td>...</td>\n",
       "      <td>...</td>\n",
       "    </tr>\n",
       "    <tr>\n",
       "      <th>195</th>\n",
       "      <td>True</td>\n",
       "      <td>True</td>\n",
       "      <td>True</td>\n",
       "      <td>True</td>\n",
       "    </tr>\n",
       "    <tr>\n",
       "      <th>196</th>\n",
       "      <td>True</td>\n",
       "      <td>True</td>\n",
       "      <td>True</td>\n",
       "      <td>True</td>\n",
       "    </tr>\n",
       "    <tr>\n",
       "      <th>197</th>\n",
       "      <td>True</td>\n",
       "      <td>True</td>\n",
       "      <td>True</td>\n",
       "      <td>True</td>\n",
       "    </tr>\n",
       "    <tr>\n",
       "      <th>198</th>\n",
       "      <td>True</td>\n",
       "      <td>True</td>\n",
       "      <td>True</td>\n",
       "      <td>True</td>\n",
       "    </tr>\n",
       "    <tr>\n",
       "      <th>199</th>\n",
       "      <td>True</td>\n",
       "      <td>True</td>\n",
       "      <td>True</td>\n",
       "      <td>True</td>\n",
       "    </tr>\n",
       "  </tbody>\n",
       "</table>\n",
       "<p>200 rows × 4 columns</p>\n",
       "</div>"
      ],
      "text/plain": [
       "     Gender   Age  Annual_Income_(k$)  Spending_Score(1-100)\n",
       "0      True  True                True                   True\n",
       "1      True  True                True                   True\n",
       "2      True  True                True                   True\n",
       "3      True  True                True                   True\n",
       "4      True  True                True                   True\n",
       "..      ...   ...                 ...                    ...\n",
       "195    True  True                True                   True\n",
       "196    True  True                True                   True\n",
       "197    True  True                True                   True\n",
       "198    True  True                True                   True\n",
       "199    True  True                True                   True\n",
       "\n",
       "[200 rows x 4 columns]"
      ]
     },
     "execution_count": 17,
     "metadata": {},
     "output_type": "execute_result"
    }
   ],
   "source": [
    "ds.notnull()"
   ]
  },
  {
   "cell_type": "markdown",
   "id": "dda6a446",
   "metadata": {},
   "source": [
    "## 6. Find the outliers and replace them outliers"
   ]
  },
  {
   "cell_type": "code",
   "execution_count": 18,
   "id": "f419840d",
   "metadata": {
    "scrolled": true
   },
   "outputs": [
    {
     "name": "stderr",
     "output_type": "stream",
     "text": [
      "/home/lokesh/anaconda3/lib/python3.9/site-packages/seaborn/_decorators.py:36: FutureWarning: Pass the following variable as a keyword arg: x. From version 0.12, the only valid positional argument will be `data`, and passing other arguments without an explicit keyword will result in an error or misinterpretation.\n",
      "  warnings.warn(\n"
     ]
    },
    {
     "data": {
      "text/plain": [
       "<AxesSubplot:xlabel='Annual_Income_(k$)'>"
      ]
     },
     "execution_count": 18,
     "metadata": {},
     "output_type": "execute_result"
    },
    {
     "data": {
      "image/png": "[encoded data removed]",
      "text/plain": [
       "<Figure size 432x288 with 1 Axes>"
      ]
     },
     "metadata": {
      "needs_background": "light"
     },
     "output_type": "display_data"
    }
   ],
   "source": [
    "sns.boxplot(s)"
   ]
  },
  {
   "cell_type": "code",
   "execution_count": 19,
   "id": "71454a3b",
   "metadata": {},
   "outputs": [
    {
     "name": "stderr",
     "output_type": "stream",
     "text": [
      "/home/lokesh/anaconda3/lib/python3.9/site-packages/seaborn/_decorators.py:36: FutureWarning: Pass the following variable as a keyword arg: x. From version 0.12, the only valid positional argument will be `data`, and passing other arguments without an explicit keyword will result in an error or misinterpretation.\n",
      "  warnings.warn(\n"
     ]
    },
    {
     "data": {
      "text/plain": [
       "<AxesSubplot:>"
      ]
     },
     "execution_count": 19,
     "metadata": {},
     "output_type": "execute_result"
    },
    {
     "data": {
      "image/png": "[encoded data removed]",
      "text/plain": [
       "<Figure size 432x288 with 1 Axes>"
      ]
     },
     "metadata": {
      "needs_background": "light"
     },
     "output_type": "display_data"
    }
   ],
   "source": [
    "Q1= s.quantile(0.25)\n",
    "Q3= s.quantile(0.75)\n",
    "\n",
    "IQR=Q3-Q1   #spread the middle values are\n",
    "\n",
    "upper_limit =Q3 + 1.5*IQR\n",
    "lower_limit =Q1 - 1.5*IQR\n",
    "\n",
    "s = np.where(s>upper_limit,30,s)\n",
    "\n",
    "sns.boxplot(s)"
   ]
  },
  {
   "cell_type": "markdown",
   "id": "07c9fdbd",
   "metadata": {},
   "source": [
    "## 7. Check for Categorical columns and perform encoding."
   ]
  },
  {
   "cell_type": "code",
   "execution_count": 20,
   "id": "c1628cfd",
   "metadata": {},
   "outputs": [
    {
     "data": {
      "text/html": [
       "<div>\n",
       "<style scoped>\n",
       "    .dataframe tbody tr th:only-of-type {\n",
       "        vertical-align: middle;\n",
       "    }\n",
       "\n",
       "    .dataframe tbody tr th {\n",
       "        vertical-align: top;\n",
       "    }\n",
       "\n",
       "    .dataframe thead th {\n",
       "        text-align: right;\n",
       "    }\n",
       "</style>\n",
       "<table border=\"1\" class=\"dataframe\">\n",
       "  <thead>\n",
       "    <tr style=\"text-align: right;\">\n",
       "      <th></th>\n",
       "      <th>Gender</th>\n",
       "      <th>Age</th>\n",
       "      <th>Annual_Income_(k$)</th>\n",
       "      <th>Spending_Score(1-100)</th>\n",
       "    </tr>\n",
       "  </thead>\n",
       "  <tbody>\n",
       "    <tr>\n",
       "      <th>0</th>\n",
       "      <td>1</td>\n",
       "      <td>19</td>\n",
       "      <td>15</td>\n",
       "      <td>39</td>\n",
       "    </tr>\n",
       "    <tr>\n",
       "      <th>1</th>\n",
       "      <td>1</td>\n",
       "      <td>21</td>\n",
       "      <td>15</td>\n",
       "      <td>81</td>\n",
       "    </tr>\n",
       "    <tr>\n",
       "      <th>2</th>\n",
       "      <td>0</td>\n",
       "      <td>20</td>\n",
       "      <td>16</td>\n",
       "      <td>6</td>\n",
       "    </tr>\n",
       "    <tr>\n",
       "      <th>3</th>\n",
       "      <td>0</td>\n",
       "      <td>23</td>\n",
       "      <td>16</td>\n",
       "      <td>77</td>\n",
       "    </tr>\n",
       "    <tr>\n",
       "      <th>4</th>\n",
       "      <td>0</td>\n",
       "      <td>31</td>\n",
       "      <td>17</td>\n",
       "      <td>40</td>\n",
       "    </tr>\n",
       "    <tr>\n",
       "      <th>...</th>\n",
       "      <td>...</td>\n",
       "      <td>...</td>\n",
       "      <td>...</td>\n",
       "      <td>...</td>\n",
       "    </tr>\n",
       "    <tr>\n",
       "      <th>195</th>\n",
       "      <td>0</td>\n",
       "      <td>35</td>\n",
       "      <td>120</td>\n",
       "      <td>79</td>\n",
       "    </tr>\n",
       "    <tr>\n",
       "      <th>196</th>\n",
       "      <td>0</td>\n",
       "      <td>45</td>\n",
       "      <td>126</td>\n",
       "      <td>28</td>\n",
       "    </tr>\n",
       "    <tr>\n",
       "      <th>197</th>\n",
       "      <td>1</td>\n",
       "      <td>32</td>\n",
       "      <td>126</td>\n",
       "      <td>74</td>\n",
       "    </tr>\n",
       "    <tr>\n",
       "      <th>198</th>\n",
       "      <td>1</td>\n",
       "      <td>32</td>\n",
       "      <td>137</td>\n",
       "      <td>18</td>\n",
       "    </tr>\n",
       "    <tr>\n",
       "      <th>199</th>\n",
       "      <td>1</td>\n",
       "      <td>30</td>\n",
       "      <td>137</td>\n",
       "      <td>83</td>\n",
       "    </tr>\n",
       "  </tbody>\n",
       "</table>\n",
       "<p>200 rows × 4 columns</p>\n",
       "</div>"
      ],
      "text/plain": [
       "     Gender  Age  Annual_Income_(k$)  Spending_Score(1-100)\n",
       "0         1   19                  15                     39\n",
       "1         1   21                  15                     81\n",
       "2         0   20                  16                      6\n",
       "3         0   23                  16                     77\n",
       "4         0   31                  17                     40\n",
       "..      ...  ...                 ...                    ...\n",
       "195       0   35                 120                     79\n",
       "196       0   45                 126                     28\n",
       "197       1   32                 126                     74\n",
       "198       1   32                 137                     18\n",
       "199       1   30                 137                     83\n",
       "\n",
       "[200 rows x 4 columns]"
      ]
     },
     "execution_count": 20,
     "metadata": {},
     "output_type": "execute_result"
    }
   ],
   "source": [
    "from sklearn.preprocessing import LabelEncoder\n",
    "le = LabelEncoder()\n",
    "\n",
    "ds['Gender'] = le.fit_transform(ds['Gender'])\n",
    "ds\n",
    "\n",
    "        # 0 = female, 1 = male"
   ]
  },
  {
   "cell_type": "markdown",
   "id": "ba79b67b",
   "metadata": {},
   "source": [
    "## 8. Scaling the data"
   ]
  },
  {
   "cell_type": "code",
   "execution_count": 1,
   "id": "f9bb3bcb",
   "metadata": {},
   "outputs": [],
   "source": [
    "# In this dataset their is no need to Scaling the data"
   ]
  },
  {
   "cell_type": "markdown",
   "id": "d169dd4a",
   "metadata": {},
   "source": [
    "## 9. Perform any of the clustering algorithms"
   ]
  },
  {
   "cell_type": "code",
   "execution_count": 22,
   "id": "3da1e4c7",
   "metadata": {},
   "outputs": [
    {
     "data": {
      "text/plain": [
       "array([5, 4, 5, 4, 5, 4, 5, 4, 5, 4, 5, 4, 5, 4, 5, 4, 5, 4, 5, 4, 5, 4,\n",
       "       5, 4, 5, 4, 5, 4, 5, 4, 5, 4, 5, 4, 5, 4, 5, 4, 5, 4, 0, 4, 5, 1,\n",
       "       5, 4, 0, 1, 1, 1, 0, 1, 1, 0, 0, 0, 0, 0, 1, 0, 0, 1, 0, 0, 0, 1,\n",
       "       0, 0, 1, 1, 0, 0, 0, 0, 0, 1, 0, 1, 1, 0, 0, 1, 0, 0, 1, 0, 0, 1,\n",
       "       1, 0, 0, 1, 0, 1, 1, 1, 0, 1, 0, 1, 1, 0, 0, 1, 0, 1, 0, 0, 0, 0,\n",
       "       0, 1, 1, 1, 1, 1, 0, 0, 0, 0, 1, 1, 1, 2, 3, 2, 3, 2, 3, 2, 3, 2,\n",
       "       1, 2, 3, 2, 3, 2, 3, 2, 3, 2, 1, 2, 3, 2, 3, 2, 3, 2, 3, 2, 3, 2,\n",
       "       3, 2, 3, 2, 3, 2, 3, 2, 3, 2, 3, 2, 3, 2, 3, 2, 3, 2, 3, 2, 3, 2,\n",
       "       3, 2, 3, 2, 6, 7, 6, 7, 6, 7, 6, 7, 6, 7, 6, 7, 6, 7, 6, 7, 6, 7,\n",
       "       6, 7], dtype=int32)"
      ]
     },
     "execution_count": 22,
     "metadata": {},
     "output_type": "execute_result"
    }
   ],
   "source": [
    "from sklearn.cluster import KMeans\n",
    "km = KMeans()\n",
    "clus = km.fit_predict(ds)\n",
    "clus\n"
   ]
  },
  {
   "cell_type": "code",
   "execution_count": 26,
   "id": "f43546a6",
   "metadata": {},
   "outputs": [
    {
     "data": {
      "text/plain": [
       "Index(['Gender', 'Age', 'Annual_Income_(k$)', 'Spending_Score(1-100)'], dtype='object')"
      ]
     },
     "execution_count": 26,
     "metadata": {},
     "output_type": "execute_result"
    }
   ],
   "source": [
    "clo = ds.columns\n",
    "clo"
   ]
  },
  {
   "cell_type": "code",
   "execution_count": 31,
   "id": "eb5b58ca",
   "metadata": {},
   "outputs": [
    {
     "data": {
      "text/html": [
       "<div>\n",
       "<style scoped>\n",
       "    .dataframe tbody tr th:only-of-type {\n",
       "        vertical-align: middle;\n",
       "    }\n",
       "\n",
       "    .dataframe tbody tr th {\n",
       "        vertical-align: top;\n",
       "    }\n",
       "\n",
       "    .dataframe thead th {\n",
       "        text-align: right;\n",
       "    }\n",
       "</style>\n",
       "<table border=\"1\" class=\"dataframe\">\n",
       "  <thead>\n",
       "    <tr style=\"text-align: right;\">\n",
       "      <th></th>\n",
       "      <th>Gender</th>\n",
       "      <th>Age</th>\n",
       "      <th>Annual_Income_(k$)</th>\n",
       "      <th>Spending_Score(1-100)</th>\n",
       "    </tr>\n",
       "  </thead>\n",
       "  <tbody>\n",
       "    <tr>\n",
       "      <th>0</th>\n",
       "      <td>1</td>\n",
       "      <td>19</td>\n",
       "      <td>15</td>\n",
       "      <td>39</td>\n",
       "    </tr>\n",
       "    <tr>\n",
       "      <th>1</th>\n",
       "      <td>1</td>\n",
       "      <td>21</td>\n",
       "      <td>15</td>\n",
       "      <td>81</td>\n",
       "    </tr>\n",
       "    <tr>\n",
       "      <th>2</th>\n",
       "      <td>0</td>\n",
       "      <td>20</td>\n",
       "      <td>16</td>\n",
       "      <td>6</td>\n",
       "    </tr>\n",
       "    <tr>\n",
       "      <th>3</th>\n",
       "      <td>0</td>\n",
       "      <td>23</td>\n",
       "      <td>16</td>\n",
       "      <td>77</td>\n",
       "    </tr>\n",
       "    <tr>\n",
       "      <th>4</th>\n",
       "      <td>0</td>\n",
       "      <td>31</td>\n",
       "      <td>17</td>\n",
       "      <td>40</td>\n",
       "    </tr>\n",
       "    <tr>\n",
       "      <th>...</th>\n",
       "      <td>...</td>\n",
       "      <td>...</td>\n",
       "      <td>...</td>\n",
       "      <td>...</td>\n",
       "    </tr>\n",
       "    <tr>\n",
       "      <th>195</th>\n",
       "      <td>0</td>\n",
       "      <td>35</td>\n",
       "      <td>120</td>\n",
       "      <td>79</td>\n",
       "    </tr>\n",
       "    <tr>\n",
       "      <th>196</th>\n",
       "      <td>0</td>\n",
       "      <td>45</td>\n",
       "      <td>126</td>\n",
       "      <td>28</td>\n",
       "    </tr>\n",
       "    <tr>\n",
       "      <th>197</th>\n",
       "      <td>1</td>\n",
       "      <td>32</td>\n",
       "      <td>126</td>\n",
       "      <td>74</td>\n",
       "    </tr>\n",
       "    <tr>\n",
       "      <th>198</th>\n",
       "      <td>1</td>\n",
       "      <td>32</td>\n",
       "      <td>137</td>\n",
       "      <td>18</td>\n",
       "    </tr>\n",
       "    <tr>\n",
       "      <th>199</th>\n",
       "      <td>1</td>\n",
       "      <td>30</td>\n",
       "      <td>137</td>\n",
       "      <td>83</td>\n",
       "    </tr>\n",
       "  </tbody>\n",
       "</table>\n",
       "<p>200 rows × 4 columns</p>\n",
       "</div>"
      ],
      "text/plain": [
       "     Gender  Age  Annual_Income_(k$)  Spending_Score(1-100)\n",
       "0         1   19                  15                     39\n",
       "1         1   21                  15                     81\n",
       "2         0   20                  16                      6\n",
       "3         0   23                  16                     77\n",
       "4         0   31                  17                     40\n",
       "..      ...  ...                 ...                    ...\n",
       "195       0   35                 120                     79\n",
       "196       0   45                 126                     28\n",
       "197       1   32                 126                     74\n",
       "198       1   32                 137                     18\n",
       "199       1   30                 137                     83\n",
       "\n",
       "[200 rows x 4 columns]"
      ]
     },
     "execution_count": 31,
     "metadata": {},
     "output_type": "execute_result"
    }
   ],
   "source": [
    "data1 = pd.DataFrame(ds,columns=clo)\n",
    "data1\n"
   ]
  },
  {
   "cell_type": "markdown",
   "id": "1fa9ab73",
   "metadata": {},
   "source": [
    "## 10. Add the cluster data with the primary dataset"
   ]
  },
  {
   "cell_type": "code",
   "execution_count": 33,
   "id": "ef65e371",
   "metadata": {},
   "outputs": [],
   "source": [
    "data1['kclus'] = pd.Series(clus)"
   ]
  },
  {
   "cell_type": "code",
   "execution_count": 34,
   "id": "d438d8d7",
   "metadata": {
    "scrolled": true
   },
   "outputs": [
    {
     "data": {
      "text/html": [
       "<div>\n",
       "<style scoped>\n",
       "    .dataframe tbody tr th:only-of-type {\n",
       "        vertical-align: middle;\n",
       "    }\n",
       "\n",
       "    .dataframe tbody tr th {\n",
       "        vertical-align: top;\n",
       "    }\n",
       "\n",
       "    .dataframe thead th {\n",
       "        text-align: right;\n",
       "    }\n",
       "</style>\n",
       "<table border=\"1\" class=\"dataframe\">\n",
       "  <thead>\n",
       "    <tr style=\"text-align: right;\">\n",
       "      <th></th>\n",
       "      <th>Gender</th>\n",
       "      <th>Age</th>\n",
       "      <th>Annual_Income_(k$)</th>\n",
       "      <th>Spending_Score(1-100)</th>\n",
       "      <th>kclus</th>\n",
       "    </tr>\n",
       "  </thead>\n",
       "  <tbody>\n",
       "    <tr>\n",
       "      <th>0</th>\n",
       "      <td>1</td>\n",
       "      <td>19</td>\n",
       "      <td>15</td>\n",
       "      <td>39</td>\n",
       "      <td>5</td>\n",
       "    </tr>\n",
       "    <tr>\n",
       "      <th>1</th>\n",
       "      <td>1</td>\n",
       "      <td>21</td>\n",
       "      <td>15</td>\n",
       "      <td>81</td>\n",
       "      <td>4</td>\n",
       "    </tr>\n",
       "    <tr>\n",
       "      <th>2</th>\n",
       "      <td>0</td>\n",
       "      <td>20</td>\n",
       "      <td>16</td>\n",
       "      <td>6</td>\n",
       "      <td>5</td>\n",
       "    </tr>\n",
       "    <tr>\n",
       "      <th>3</th>\n",
       "      <td>0</td>\n",
       "      <td>23</td>\n",
       "      <td>16</td>\n",
       "      <td>77</td>\n",
       "      <td>4</td>\n",
       "    </tr>\n",
       "    <tr>\n",
       "      <th>4</th>\n",
       "      <td>0</td>\n",
       "      <td>31</td>\n",
       "      <td>17</td>\n",
       "      <td>40</td>\n",
       "      <td>5</td>\n",
       "    </tr>\n",
       "    <tr>\n",
       "      <th>...</th>\n",
       "      <td>...</td>\n",
       "      <td>...</td>\n",
       "      <td>...</td>\n",
       "      <td>...</td>\n",
       "      <td>...</td>\n",
       "    </tr>\n",
       "    <tr>\n",
       "      <th>195</th>\n",
       "      <td>0</td>\n",
       "      <td>35</td>\n",
       "      <td>120</td>\n",
       "      <td>79</td>\n",
       "      <td>7</td>\n",
       "    </tr>\n",
       "    <tr>\n",
       "      <th>196</th>\n",
       "      <td>0</td>\n",
       "      <td>45</td>\n",
       "      <td>126</td>\n",
       "      <td>28</td>\n",
       "      <td>6</td>\n",
       "    </tr>\n",
       "    <tr>\n",
       "      <th>197</th>\n",
       "      <td>1</td>\n",
       "      <td>32</td>\n",
       "      <td>126</td>\n",
       "      <td>74</td>\n",
       "      <td>7</td>\n",
       "    </tr>\n",
       "    <tr>\n",
       "      <th>198</th>\n",
       "      <td>1</td>\n",
       "      <td>32</td>\n",
       "      <td>137</td>\n",
       "      <td>18</td>\n",
       "      <td>6</td>\n",
       "    </tr>\n",
       "    <tr>\n",
       "      <th>199</th>\n",
       "      <td>1</td>\n",
       "      <td>30</td>\n",
       "      <td>137</td>\n",
       "      <td>83</td>\n",
       "      <td>7</td>\n",
       "    </tr>\n",
       "  </tbody>\n",
       "</table>\n",
       "<p>200 rows × 5 columns</p>\n",
       "</div>"
      ],
      "text/plain": [
       "     Gender  Age  Annual_Income_(k$)  Spending_Score(1-100)  kclus\n",
       "0         1   19                  15                     39      5\n",
       "1         1   21                  15                     81      4\n",
       "2         0   20                  16                      6      5\n",
       "3         0   23                  16                     77      4\n",
       "4         0   31                  17                     40      5\n",
       "..      ...  ...                 ...                    ...    ...\n",
       "195       0   35                 120                     79      7\n",
       "196       0   45                 126                     28      6\n",
       "197       1   32                 126                     74      7\n",
       "198       1   32                 137                     18      6\n",
       "199       1   30                 137                     83      7\n",
       "\n",
       "[200 rows x 5 columns]"
      ]
     },
     "execution_count": 34,
     "metadata": {},
     "output_type": "execute_result"
    }
   ],
   "source": [
    "data1"
   ]
  },
  {
   "cell_type": "markdown",
   "id": "875b292a",
   "metadata": {},
   "source": [
    "##  11. Split the data into dependent and independent variables."
   ]
  },
  {
   "cell_type": "code",
   "execution_count": 38,
   "id": "d0aea2b3",
   "metadata": {},
   "outputs": [],
   "source": [
    "Y_split = data1.iloc[:,-1]"
   ]
  },
  {
   "cell_type": "code",
   "execution_count": 42,
   "id": "eba191e0",
   "metadata": {},
   "outputs": [],
   "source": [
    "X_split = data1.iloc[:,0:4]"
   ]
  },
  {
   "cell_type": "code",
   "execution_count": 43,
   "id": "91a4fc1b",
   "metadata": {},
   "outputs": [
    {
     "data": {
      "text/html": [
       "<div>\n",
       "<style scoped>\n",
       "    .dataframe tbody tr th:only-of-type {\n",
       "        vertical-align: middle;\n",
       "    }\n",
       "\n",
       "    .dataframe tbody tr th {\n",
       "        vertical-align: top;\n",
       "    }\n",
       "\n",
       "    .dataframe thead th {\n",
       "        text-align: right;\n",
       "    }\n",
       "</style>\n",
       "<table border=\"1\" class=\"dataframe\">\n",
       "  <thead>\n",
       "    <tr style=\"text-align: right;\">\n",
       "      <th></th>\n",
       "      <th>Gender</th>\n",
       "      <th>Age</th>\n",
       "      <th>Annual_Income_(k$)</th>\n",
       "      <th>Spending_Score(1-100)</th>\n",
       "    </tr>\n",
       "  </thead>\n",
       "  <tbody>\n",
       "    <tr>\n",
       "      <th>0</th>\n",
       "      <td>1</td>\n",
       "      <td>19</td>\n",
       "      <td>15</td>\n",
       "      <td>39</td>\n",
       "    </tr>\n",
       "    <tr>\n",
       "      <th>1</th>\n",
       "      <td>1</td>\n",
       "      <td>21</td>\n",
       "      <td>15</td>\n",
       "      <td>81</td>\n",
       "    </tr>\n",
       "    <tr>\n",
       "      <th>2</th>\n",
       "      <td>0</td>\n",
       "      <td>20</td>\n",
       "      <td>16</td>\n",
       "      <td>6</td>\n",
       "    </tr>\n",
       "    <tr>\n",
       "      <th>3</th>\n",
       "      <td>0</td>\n",
       "      <td>23</td>\n",
       "      <td>16</td>\n",
       "      <td>77</td>\n",
       "    </tr>\n",
       "    <tr>\n",
       "      <th>4</th>\n",
       "      <td>0</td>\n",
       "      <td>31</td>\n",
       "      <td>17</td>\n",
       "      <td>40</td>\n",
       "    </tr>\n",
       "    <tr>\n",
       "      <th>...</th>\n",
       "      <td>...</td>\n",
       "      <td>...</td>\n",
       "      <td>...</td>\n",
       "      <td>...</td>\n",
       "    </tr>\n",
       "    <tr>\n",
       "      <th>195</th>\n",
       "      <td>0</td>\n",
       "      <td>35</td>\n",
       "      <td>120</td>\n",
       "      <td>79</td>\n",
       "    </tr>\n",
       "    <tr>\n",
       "      <th>196</th>\n",
       "      <td>0</td>\n",
       "      <td>45</td>\n",
       "      <td>126</td>\n",
       "      <td>28</td>\n",
       "    </tr>\n",
       "    <tr>\n",
       "      <th>197</th>\n",
       "      <td>1</td>\n",
       "      <td>32</td>\n",
       "      <td>126</td>\n",
       "      <td>74</td>\n",
       "    </tr>\n",
       "    <tr>\n",
       "      <th>198</th>\n",
       "      <td>1</td>\n",
       "      <td>32</td>\n",
       "      <td>137</td>\n",
       "      <td>18</td>\n",
       "    </tr>\n",
       "    <tr>\n",
       "      <th>199</th>\n",
       "      <td>1</td>\n",
       "      <td>30</td>\n",
       "      <td>137</td>\n",
       "      <td>83</td>\n",
       "    </tr>\n",
       "  </tbody>\n",
       "</table>\n",
       "<p>200 rows × 4 columns</p>\n",
       "</div>"
      ],
      "text/plain": [
       "     Gender  Age  Annual_Income_(k$)  Spending_Score(1-100)\n",
       "0         1   19                  15                     39\n",
       "1         1   21                  15                     81\n",
       "2         0   20                  16                      6\n",
       "3         0   23                  16                     77\n",
       "4         0   31                  17                     40\n",
       "..      ...  ...                 ...                    ...\n",
       "195       0   35                 120                     79\n",
       "196       0   45                 126                     28\n",
       "197       1   32                 126                     74\n",
       "198       1   32                 137                     18\n",
       "199       1   30                 137                     83\n",
       "\n",
       "[200 rows x 4 columns]"
      ]
     },
     "execution_count": 43,
     "metadata": {},
     "output_type": "execute_result"
    }
   ],
   "source": [
    "X_split"
   ]
  },
  {
   "cell_type": "code",
   "execution_count": 39,
   "id": "c347073b",
   "metadata": {},
   "outputs": [
    {
     "data": {
      "text/plain": [
       "0      5\n",
       "1      4\n",
       "2      5\n",
       "3      4\n",
       "4      5\n",
       "      ..\n",
       "195    7\n",
       "196    6\n",
       "197    7\n",
       "198    6\n",
       "199    7\n",
       "Name: kclus, Length: 200, dtype: int32"
      ]
     },
     "execution_count": 39,
     "metadata": {},
     "output_type": "execute_result"
    }
   ],
   "source": [
    "Y_split"
   ]
  },
  {
   "cell_type": "markdown",
   "id": "79cb584a",
   "metadata": {},
   "source": [
    "## 12. Split the data into training and testing"
   ]
  },
  {
   "cell_type": "code",
   "execution_count": 55,
   "id": "31a1d898",
   "metadata": {},
   "outputs": [],
   "source": [
    "from sklearn.model_selection import train_test_split\n",
    "x_train,x_test,y_train,y_test = train_test_split(X_split,Y_split,train_size=0.80,random_state=1)"
   ]
  },
  {
   "cell_type": "code",
   "execution_count": 47,
   "id": "1fcb8bda",
   "metadata": {
    "scrolled": true
   },
   "outputs": [
    {
     "name": "stdout",
     "output_type": "stream",
     "text": [
      "(200, 4)\n",
      "(200,)\n",
      "(160, 4)\n",
      "(160,)\n",
      "(40, 4)\n",
      "(40,)\n"
     ]
    }
   ],
   "source": [
    "print(X_split.shape)\n",
    "print(Y_split.shape)\n",
    "print(x_train.shape)\n",
    "print(y_train.shape)\n",
    "print(x_test.shape)\n",
    "print(y_test.shape)"
   ]
  },
  {
   "cell_type": "markdown",
   "id": "8e5cc2d2",
   "metadata": {},
   "source": [
    "## 13. Build the Model"
   ]
  },
  {
   "cell_type": "code",
   "execution_count": 48,
   "id": "f2692d27",
   "metadata": {},
   "outputs": [
    {
     "data": {
      "text/plain": [
       "LinearRegression()"
      ]
     },
     "execution_count": 48,
     "metadata": {},
     "output_type": "execute_result"
    }
   ],
   "source": [
    "from sklearn.linear_model import LinearRegression\n",
    "\n",
    "mlr = LinearRegression()\n",
    "\n",
    "mlr.fit(x_train,y_train)"
   ]
  },
  {
   "cell_type": "code",
   "execution_count": 67,
   "id": "3c4d104b",
   "metadata": {},
   "outputs": [
    {
     "data": {
      "text/plain": [
       "DecisionTreeClassifier()"
      ]
     },
     "execution_count": 67,
     "metadata": {},
     "output_type": "execute_result"
    }
   ],
   "source": [
    "from sklearn.tree import DecisionTreeClassifier\n",
    "\n",
    "model = DecisionTreeClassifier()\n",
    "\n",
    "model.fit(x_train,y_train)"
   ]
  },
  {
   "cell_type": "code",
   "execution_count": 69,
   "id": "c4fc197b",
   "metadata": {},
   "outputs": [
    {
     "data": {
      "text/plain": [
       "array([1, 5, 5, 0, 6, 6, 1, 1, 4, 3, 2, 5, 4, 0, 0, 0, 2, 4, 3, 0, 1, 5,\n",
       "       5, 1, 4, 3, 5, 5, 7, 1, 1, 2, 6, 2, 3, 1, 3, 0, 1, 3], dtype=int32)"
      ]
     },
     "execution_count": 69,
     "metadata": {},
     "output_type": "execute_result"
    }
   ],
   "source": [
    "prediction = model.predict(x_test)\n",
    "prediction"
   ]
  },
  {
   "cell_type": "code",
   "execution_count": 78,
   "id": "f620b71c",
   "metadata": {},
   "outputs": [],
   "source": [
    "from sklearn.metrics import accuracy_score,confusion_matrix,  classification_report\n",
    "acc = accuracy_score(y_test,prediction)"
   ]
  },
  {
   "cell_type": "code",
   "execution_count": 79,
   "id": "243488ff",
   "metadata": {},
   "outputs": [
    {
     "data": {
      "text/plain": [
       "0.925"
      ]
     },
     "execution_count": 79,
     "metadata": {},
     "output_type": "execute_result"
    }
   ],
   "source": [
    "acc"
   ]
  },
  {
   "cell_type": "markdown",
   "id": "954dafcf",
   "metadata": {},
   "source": [
    "## 14. Train the Model"
   ]
  },
  {
   "cell_type": "code",
   "execution_count": 80,
   "id": "2f42f637",
   "metadata": {},
   "outputs": [
    {
     "data": {
      "text/plain": [
       "RandomForestClassifier()"
      ]
     },
     "execution_count": 80,
     "metadata": {},
     "output_type": "execute_result"
    }
   ],
   "source": [
    "from sklearn.ensemble import RandomForestClassifier\n",
    "rf = RandomForestClassifier()\n",
    "rf.fit(x_train, y_train)"
   ]
  },
  {
   "cell_type": "markdown",
   "id": "d8367f3f",
   "metadata": {},
   "source": [
    "## 15. Test the Model"
   ]
  },
  {
   "cell_type": "code",
   "execution_count": 81,
   "id": "ac8c92d6",
   "metadata": {},
   "outputs": [],
   "source": [
    "pred_test_rf = rf.predict(x_test)\n"
   ]
  },
  {
   "cell_type": "code",
   "execution_count": 82,
   "id": "b0b96913",
   "metadata": {
    "scrolled": true
   },
   "outputs": [
    {
     "data": {
      "text/plain": [
       "array([1, 5, 5, 0, 6, 6, 1, 1, 4, 3, 2, 5, 4, 0, 0, 0, 2, 4, 3, 0, 1, 5,\n",
       "       5, 1, 4, 3, 5, 5, 7, 1, 1, 2, 6, 2, 3, 1, 3, 0, 1, 3], dtype=int32)"
      ]
     },
     "execution_count": 82,
     "metadata": {},
     "output_type": "execute_result"
    }
   ],
   "source": [
    "pred_test_rf"
   ]
  },
  {
   "cell_type": "markdown",
   "id": "75e487c6",
   "metadata": {},
   "source": [
    "## 16. Measure the performance using Evaluation Metrics."
   ]
  },
  {
   "cell_type": "code",
   "execution_count": 83,
   "id": "adb57b2a",
   "metadata": {},
   "outputs": [
    {
     "data": {
      "text/plain": [
       "0.925"
      ]
     },
     "execution_count": 83,
     "metadata": {},
     "output_type": "execute_result"
    }
   ],
   "source": [
    "accuracy_score(y_test,pred_test_rf)"
   ]
  },
  {
   "cell_type": "code",
   "execution_count": 84,
   "id": "1bbf70d0",
   "metadata": {},
   "outputs": [
    {
     "data": {
      "text/plain": [
       "array([[6, 0, 0, 0, 0, 0, 0, 0],\n",
       "       [0, 7, 0, 0, 1, 1, 0, 0],\n",
       "       [0, 0, 4, 0, 0, 0, 0, 0],\n",
       "       [0, 0, 0, 6, 0, 0, 0, 0],\n",
       "       [0, 0, 0, 0, 4, 0, 0, 0],\n",
       "       [1, 0, 0, 0, 0, 6, 0, 0],\n",
       "       [0, 0, 0, 0, 0, 0, 3, 0],\n",
       "       [0, 0, 0, 0, 0, 0, 0, 1]])"
      ]
     },
     "execution_count": 84,
     "metadata": {},
     "output_type": "execute_result"
    }
   ],
   "source": [
    "confusion_matrix(prediction, y_test)"
   ]
  },
  {
   "cell_type": "code",
   "execution_count": 85,
   "id": "538fb578",
   "metadata": {
    "scrolled": true
   },
   "outputs": [
    {
     "data": {
      "text/plain": [
       "array([[6, 0, 0, 0, 0, 0, 0, 0],\n",
       "       [0, 7, 0, 0, 1, 1, 0, 0],\n",
       "       [0, 0, 4, 0, 0, 0, 0, 0],\n",
       "       [0, 0, 0, 6, 0, 0, 0, 0],\n",
       "       [0, 0, 0, 0, 4, 0, 0, 0],\n",
       "       [1, 0, 0, 0, 0, 6, 0, 0],\n",
       "       [0, 0, 0, 0, 0, 0, 3, 0],\n",
       "       [0, 0, 0, 0, 0, 0, 0, 1]])"
      ]
     },
     "execution_count": 85,
     "metadata": {},
     "output_type": "execute_result"
    }
   ],
   "source": [
    "confusion_matrix(pred_test_rf, y_test) #rf"
   ]
  },
  {
   "cell_type": "markdown",
   "id": "d0265cf7",
   "metadata": {},
   "source": [
    "## by using Randomized SearchCV algorithm"
   ]
  },
  {
   "cell_type": "code",
   "execution_count": 89,
   "id": "4d0571c2",
   "metadata": {},
   "outputs": [],
   "source": [
    "from sklearn.model_selection import RandomizedSearchCV\n"
   ]
  },
  {
   "cell_type": "code",
   "execution_count": 90,
   "id": "9d8a42cf",
   "metadata": {},
   "outputs": [],
   "source": [
    "parameters = {\n",
    "    'n_estimators':[1,6,8,9,5,64,73,45,90,87,32,23,12,13],\n",
    "    'criterion':['gini','entropy'],\n",
    "    'max_depth':[2,5,4,7,8,9,10,20,50],\n",
    "    'min_samples_split':[2,4,5,10,20]\n",
    "}"
   ]
  },
  {
   "cell_type": "code",
   "execution_count": 91,
   "id": "b6b5f32d",
   "metadata": {},
   "outputs": [],
   "source": [
    "rcv = RandomizedSearchCV(estimator=rf,param_distributions = parameters,cv =10 , n_iter = 10)"
   ]
  },
  {
   "cell_type": "code",
   "execution_count": 92,
   "id": "caf0e434",
   "metadata": {},
   "outputs": [
    {
     "data": {
      "text/plain": [
       "<bound method BaseEstimator.get_params of RandomizedSearchCV(cv=10, estimator=RandomForestClassifier(),\n",
       "                   param_distributions={'criterion': ['gini', 'entropy'],\n",
       "                                        'max_depth': [2, 5, 4, 7, 8, 9, 10, 20,\n",
       "                                                      50],\n",
       "                                        'min_samples_split': [2, 4, 5, 10, 20],\n",
       "                                        'n_estimators': [1, 6, 8, 9, 5, 64, 73,\n",
       "                                                         45, 90, 87, 32, 23, 12,\n",
       "                                                         13]})>"
      ]
     },
     "execution_count": 92,
     "metadata": {},
     "output_type": "execute_result"
    }
   ],
   "source": [
    "rcv.get_params"
   ]
  },
  {
   "cell_type": "code",
   "execution_count": 93,
   "id": "8e5f255f",
   "metadata": {},
   "outputs": [
    {
     "name": "stderr",
     "output_type": "stream",
     "text": [
      "/home/lokesh/anaconda3/lib/python3.9/site-packages/sklearn/model_selection/_split.py:676: UserWarning: The least populated class in y has only 7 members, which is less than n_splits=10.\n",
      "  warnings.warn(\n"
     ]
    },
    {
     "data": {
      "text/plain": [
       "RandomizedSearchCV(cv=10, estimator=RandomForestClassifier(),\n",
       "                   param_distributions={'criterion': ['gini', 'entropy'],\n",
       "                                        'max_depth': [2, 5, 4, 7, 8, 9, 10, 20,\n",
       "                                                      50],\n",
       "                                        'min_samples_split': [2, 4, 5, 10, 20],\n",
       "                                        'n_estimators': [1, 6, 8, 9, 5, 64, 73,\n",
       "                                                         45, 90, 87, 32, 23, 12,\n",
       "                                                         13]})"
      ]
     },
     "execution_count": 93,
     "metadata": {},
     "output_type": "execute_result"
    }
   ],
   "source": [
    "rcv.fit(x_train,y_train)"
   ]
  },
  {
   "cell_type": "code",
   "execution_count": 94,
   "id": "b552c308",
   "metadata": {},
   "outputs": [
    {
     "data": {
      "text/plain": [
       "{'n_estimators': 73,\n",
       " 'min_samples_split': 10,\n",
       " 'max_depth': 20,\n",
       " 'criterion': 'entropy'}"
      ]
     },
     "execution_count": 94,
     "metadata": {},
     "output_type": "execute_result"
    }
   ],
   "source": [
    "rcv.best_params_"
   ]
  },
  {
   "cell_type": "code",
   "execution_count": 95,
   "id": "c64fee52",
   "metadata": {},
   "outputs": [
    {
     "data": {
      "text/plain": [
       "0.96875"
      ]
     },
     "execution_count": 95,
     "metadata": {},
     "output_type": "execute_result"
    }
   ],
   "source": [
    "rcv.best_score_"
   ]
  },
  {
   "cell_type": "code",
   "execution_count": 96,
   "id": "43312c57",
   "metadata": {},
   "outputs": [
    {
     "data": {
      "text/plain": [
       "RandomForestClassifier(criterion='entropy', max_depth=20, min_samples_split=10,\n",
       "                       n_estimators=73)"
      ]
     },
     "execution_count": 96,
     "metadata": {},
     "output_type": "execute_result"
    }
   ],
   "source": [
    "rf_tunned =RandomForestClassifier(n_estimators=73,min_samples_split=10,max_depth=20,criterion='entropy')\n",
    "rf_tunned.fit(x_train,y_train)"
   ]
  },
  {
   "cell_type": "code",
   "execution_count": 98,
   "id": "a4cb2d53",
   "metadata": {},
   "outputs": [],
   "source": [
    "pred_test_tunned =rf_tunned.predict(x_test)"
   ]
  },
  {
   "cell_type": "code",
   "execution_count": 99,
   "id": "ab318e74",
   "metadata": {},
   "outputs": [
    {
     "data": {
      "text/plain": [
       "0.925"
      ]
     },
     "execution_count": 99,
     "metadata": {},
     "output_type": "execute_result"
    }
   ],
   "source": [
    "accuracy_score(pred_test_tunned,y_test)"
   ]
  },
  {
   "cell_type": "code",
   "execution_count": 100,
   "id": "8887867f",
   "metadata": {},
   "outputs": [
    {
     "data": {
      "text/plain": [
       "array([[6, 0, 0, 0, 0, 0, 0, 0],\n",
       "       [0, 7, 0, 0, 1, 1, 0, 0],\n",
       "       [0, 0, 4, 0, 0, 0, 0, 0],\n",
       "       [0, 0, 0, 6, 0, 0, 0, 0],\n",
       "       [0, 0, 0, 0, 4, 0, 0, 0],\n",
       "       [1, 0, 0, 0, 0, 6, 0, 0],\n",
       "       [0, 0, 0, 0, 0, 0, 3, 0],\n",
       "       [0, 0, 0, 0, 0, 0, 0, 1]])"
      ]
     },
     "execution_count": 100,
     "metadata": {},
     "output_type": "execute_result"
    }
   ],
   "source": [
    "confusion_matrix(pred_test_tunned,y_test)"
   ]
  },
  {
   "cell_type": "markdown",
   "id": "d1278ac8",
   "metadata": {},
   "source": [
    "\n",
    "\n",
    "### store model into \"rf_mdel.pkl\""
   ]
  },
  {
   "cell_type": "code",
   "execution_count": 101,
   "id": "360d7be2",
   "metadata": {},
   "outputs": [],
   "source": [
    "import pickle\n",
    "pickle.dump(rf,open(\"rf_mdel.pkl\",'wb'))"
   ]
  }
 ],
 "metadata": {
  "kernelspec": {
   "display_name": "Python 3 (ipykernel)",
   "language": "python",
   "name": "python3"
  },
  "language_info": {
   "codemirror_mode": {
    "name": "ipython",
    "version": 3
   },
   "file_extension": ".py",
   "mimetype": "text/x-python",
   "name": "python",
   "nbconvert_exporter": "python",
   "pygments_lexer": "ipython3",
   "version": "3.9.12"
  }
 },
 "nbformat": 4,
 "nbformat_minor": 5
}
